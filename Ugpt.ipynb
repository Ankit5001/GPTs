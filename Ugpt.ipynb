{
 "cells": [
  {
   "cell_type": "code",
   "execution_count": 61,
   "metadata": {},
   "outputs": [],
   "source": [
    "import torch\n",
    "import torch.nn  as nn\n",
    "import torch.nn.functional as F\n",
    "import seaborn as sns"
   ]
  },
  {
   "cell_type": "code",
   "execution_count": 62,
   "metadata": {},
   "outputs": [],
   "source": [
    "txt = \"\"\" #Title: The Chronicles of Terra\n",
    "\n",
    "Chapter 1: The Awakening In the year 3025, the planet Terra had become a thriving hub of advanced technology and interstellar travel. Amidst this bustling world, a young engineer named Aria discovered an ancient artifact that would change her life forever.\n",
    "\n",
    "Chapter 2: The Mysterious Artifact The artifact, a small, glowing sphere, seemed to pulse with energy. Aria couldn't decipher its origin, but she knew it held immense power. She decided to seek out the help of Dr. Lumin, an expert in ancient civilizations.\n",
    "\n",
    "Chapter 3: Dr. Lumin's Laboratory Dr. Lumin was fascinated by the artifact and revealed that it was a relic from a long-lost civilization. \"This sphere is a key to unlocking hidden knowledge,\" he explained. Together, they embarked on a quest to uncover its secrets.\n",
    "\n",
    "Chapter 4: Journey to the Desert Their journey led them to the vast deserts of Terra, where the ancient civilization once thrived. As they navigated the treacherous terrain, they encountered mysterious symbols and hidden passages.\n",
    "\n",
    "Chapter 5: The Guardian's Test At the heart of the desert, they discovered a hidden temple guarded by a formidable sentinel. \"To proceed, you must prove your worth,\" the guardian declared. Aria and Dr. Lumin faced a series of challenges, testing their intellect and bravery. \"\"\""
   ]
  },
  {
   "cell_type": "code",
   "execution_count": 63,
   "metadata": {},
   "outputs": [],
   "source": [
    "total_tokens = len(txt) # no of  training tokens"
   ]
  },
  {
   "cell_type": "code",
   "execution_count": 64,
   "metadata": {},
   "outputs": [],
   "source": [
    "vocab = \"\".join(sorted(list(set(txt))))"
   ]
  },
  {
   "cell_type": "code",
   "execution_count": null,
   "metadata": {},
   "outputs": [],
   "source": []
  },
  {
   "cell_type": "code",
   "execution_count": 65,
   "metadata": {},
   "outputs": [],
   "source": [
    "# creating token id \n",
    "\n",
    "vocab = \"\".join(sorted(list(set(txt))))\n",
    "vocab_size = len(vocab)\n",
    "stoi = {v:i for i,v in enumerate(vocab)}\n",
    "\n",
    "itos = {i:v for i,v in enumerate(vocab)}\n"
   ]
  },
  {
   "cell_type": "code",
   "execution_count": 66,
   "metadata": {},
   "outputs": [
    {
     "data": {
      "text/plain": [
       "'hi fwwwwejw bcvwcb vtheredfwr'"
      ]
     },
     "execution_count": 66,
     "metadata": {},
     "output_type": "execute_result"
    }
   ],
   "source": [
    "encoder = lambda text: [stoi[s] for s in text]\n",
    "decoder = lambda tokens: \"\".join([itos[i] for i in tokens])\n",
    "\n",
    "decoder(encoder('hi fwwwwejw bcvwcb vtheredfwr'))\n",
    "\n"
   ]
  },
  {
   "cell_type": "code",
   "execution_count": 67,
   "metadata": {},
   "outputs": [
    {
     "data": {
      "text/plain": [
       "[3]"
      ]
     },
     "execution_count": 67,
     "metadata": {},
     "output_type": "execute_result"
    }
   ],
   "source": [
    "encoder(\"#\")\n"
   ]
  },
  {
   "cell_type": "code",
   "execution_count": 68,
   "metadata": {},
   "outputs": [
    {
     "data": {
      "text/plain": [
       "'Sh4h'"
      ]
     },
     "execution_count": 68,
     "metadata": {},
     "output_type": "execute_result"
    }
   ],
   "source": [
    "decoder([23,32,12,32])"
   ]
  },
  {
   "cell_type": "code",
   "execution_count": 69,
   "metadata": {},
   "outputs": [],
   "source": [
    "block = 6\n",
    "embed_dim = 32\n",
    "\n"
   ]
  },
  {
   "cell_type": "code",
   "execution_count": 70,
   "metadata": {},
   "outputs": [
    {
     "data": {
      "text/plain": [
       "(tensor([[ 3,  3,  3,  3,  3,  1],\n",
       "         [ 3,  3,  3,  3,  1, 44],\n",
       "         [ 3,  3,  3,  1, 44, 32],\n",
       "         [ 3,  3,  1, 44, 32, 29],\n",
       "         [ 3,  1, 44, 32, 29, 49],\n",
       "         [ 1, 44, 32, 29, 49,  1]]),\n",
       " tensor([44, 32, 29, 49,  1, 38]))"
      ]
     },
     "execution_count": 70,
     "metadata": {},
     "output_type": "execute_result"
    }
   ],
   "source": [
    "encoded_txt = encoder(txt)\n",
    "\n",
    "def get_batch(): \n",
    "    sample = torch.randint(0,total_tokens - block, (1,))\n",
    "    x = [encoded_txt[sample+i]  for i in range(block)]\n",
    "    y = [encoded_txt[sample+i+1]  for i in range(block)]\n",
    "    batch_x = []\n",
    "\n",
    "    #print('Word ==>',decoder(x))\n",
    "    \n",
    "    for batch in range(1,block+1):\n",
    "        row = [3]*(block-batch) + x[:batch]\n",
    "        batch_x.append(row )\n",
    "\n",
    "        #print(decoder(row),\"==>\", decoder([y[batch-1]]))\n",
    "    \n",
    "    return torch.tensor(batch_x),torch.tensor(y)\n",
    "\n",
    "\n",
    "get_batch()\n",
    "    "
   ]
  },
  {
   "cell_type": "code",
   "execution_count": 71,
   "metadata": {},
   "outputs": [],
   "source": [
    "\n",
    "sample = torch.randint(0,total_tokens - block, (1,))\n",
    "sample\n",
    "\n",
    "x = torch.tensor([encoded_txt[sample+i]  for i in range(block)])\n",
    "y = torch.tensor([encoded_txt[sample+i+1]  for i in range(block)])\n"
   ]
  },
  {
   "cell_type": "code",
   "execution_count": 72,
   "metadata": {},
   "outputs": [],
   "source": [
    "def pos_emb(seq,model_dim ):\n",
    "    pos_vec = torch.zeros(size=(seq,model_dim))\n",
    "    for pos in range(seq):\n",
    "        for i in range(0,model_dim,2):\n",
    "            val = torch.tensor(pos/((10000)**(2*i/model_dim)))\n",
    "            pos_vec[pos,i] = torch.sin(val)\n",
    "            pos_vec[pos,i+1] = torch.cos(val)\n",
    "    return pos_vec"
   ]
  },
  {
   "cell_type": "code",
   "execution_count": 73,
   "metadata": {},
   "outputs": [],
   "source": [
    "import matplotlib.pyplot as plt\n"
   ]
  },
  {
   "cell_type": "code",
   "execution_count": 74,
   "metadata": {},
   "outputs": [
    {
     "data": {
      "image/png": "[encoded data removed]",
      "text/plain": [
       "<Figure size 640x480 with 1 Axes>"
      ]
     },
     "metadata": {},
     "output_type": "display_data"
    }
   ],
   "source": [
    "pos_digram = pos_emb(block,embed_dim)[3]\n",
    "plt.plot(pos_digram)\n",
    "plt.show()"
   ]
  },
  {
   "cell_type": "code",
   "execution_count": 75,
   "metadata": {},
   "outputs": [
    {
     "data": {
      "text/plain": [
       "torch.Size([6, 32])"
      ]
     },
     "execution_count": 75,
     "metadata": {},
     "output_type": "execute_result"
    }
   ],
   "source": [
    "\n",
    "tok_emb = nn.Embedding(vocab_size,embed_dim)\n",
    "input_embed = tok_emb(x)\n",
    "position_embedd = pos_emb(block,embed_dim)\n",
    "\n",
    "position_aware_embed = input_embed + position_embedd\n",
    "position_aware_embed.shape"
   ]
  },
  {
   "cell_type": "code",
   "execution_count": 76,
   "metadata": {},
   "outputs": [],
   "source": [
    "class Head(nn.Module):\n",
    "    def __init__(self,embed_dim): # (6,6,32)\n",
    "        super().__init__()\n",
    "        self.query = nn.Linear(embed_dim, embed_dim, bias=False) # 32,32,\n",
    "        self.key = nn.Linear(embed_dim, embed_dim, bias=False) # 32,32\n",
    "        self.value = nn.Linear(embed_dim, embed_dim, bias=False) # 32, 32\n",
    "\n",
    "         # (6,6, 32)\n",
    "    def forward(self, position_aware_embed):\n",
    "        key_mat = self.key(position_aware_embed) # 6,6,32\n",
    "        query_mat = self.query(position_aware_embed) #(6,6,32)\n",
    "        value_mat = self.value(position_aware_embed) # (6,6,32)\n",
    "\n",
    "        # Attantion layer\n",
    "        attention = (query_mat @ key_mat.transpose(-1,-2))/(embed_dim**0.5) # (6,6,6)\n",
    "        wei = attention.masked_fill(torch.tril(attention) == 0 , -torch.inf) # (6,6,6)\n",
    "        wei = F.softmax(wei , dim=-1) \n",
    "\n",
    "        return wei @ value_mat #(6,6,32)\n",
    "        #context_aware_emb \n",
    "head = Head(embed_dim)"
   ]
  },
  {
   "cell_type": "code",
   "execution_count": 77,
   "metadata": {},
   "outputs": [
    {
     "data": {
      "text/plain": [
       "([50, 1, 1, 40, 50, 1], torch.Size([6, 51]))"
      ]
     },
     "execution_count": 77,
     "metadata": {},
     "output_type": "execute_result"
    }
   ],
   "source": [
    "class feedForward(nn.Module):\n",
    "    def __init__(self):\n",
    "        super().__init__()\n",
    "        self.l1 = nn.Linear(embed_dim , 128) # 32,128\n",
    "        self.logit = nn.Linear(128,vocab_size) # 128,32\n",
    "\n",
    "    def forward(self, x): # x=(6,6,32)\n",
    "        x =  F.relu(self.l1(x)) # 6,6,128\n",
    "        x = self.logit(x) # 6,6,128\n",
    "        return F.softmax(x,dim=-1) # 6,6,32\n",
    "    \n",
    "projection = feedForward()\n",
    "logit = projection(head(position_aware_embed))\n",
    "id = torch.argmax(logit,dim=1)\n",
    "id.tolist(),logit.shape"
   ]
  },
  {
   "cell_type": "code",
   "execution_count": 78,
   "metadata": {},
   "outputs": [
    {
     "data": {
      "text/plain": [
       "<matplotlib.image.AxesImage at 0x2902992b1d0>"
      ]
     },
     "execution_count": 78,
     "metadata": {},
     "output_type": "execute_result"
    },
    {
     "data": {
      "image/png": "[encoded data removed]",
      "text/plain": [
       "<Figure size 640x480 with 1 Axes>"
      ]
     },
     "metadata": {},
     "output_type": "display_data"
    }
   ],
   "source": [
    "import numpy as np \n",
    "plt.imshow(np.array(list(head.parameters())[0].detach()))"
   ]
  },
  {
   "cell_type": "code",
   "execution_count": 81,
   "metadata": {},
   "outputs": [
    {
     "name": "stdout",
     "output_type": "stream",
     "text": [
      "0 loss :==> tensor(3.9319, grad_fn=<NllLossBackward0>)\n",
      "1000 loss :==> tensor(3.7983, grad_fn=<NllLossBackward0>)\n",
      "2000 loss :==> tensor(3.7983, grad_fn=<NllLossBackward0>)\n",
      "3000 loss :==> tensor(3.9650, grad_fn=<NllLossBackward0>)\n",
      "4000 loss :==> tensor(3.7983, grad_fn=<NllLossBackward0>)\n",
      "5000 loss :==> tensor(3.9650, grad_fn=<NllLossBackward0>)\n",
      "6000 loss :==> tensor(3.9650, grad_fn=<NllLossBackward0>)\n",
      "7000 loss :==> tensor(3.7983, grad_fn=<NllLossBackward0>)\n",
      "8000 loss :==> tensor(3.6316, grad_fn=<NllLossBackward0>)\n",
      "9000 loss :==> tensor(3.6316, grad_fn=<NllLossBackward0>)\n"
     ]
    }
   ],
   "source": [
    "        \n",
    "head = Head(embed_dim)\n",
    "projection = feedForward()\n",
    "\n",
    "optim_dense = torch.optim.Adam((list(head.parameters()) + list(projection.parameters()) + list(tok_emb.parameters())), lr=0.1)\n",
    "\n",
    "def train(epochs=100,lr =0.1):\n",
    "    \n",
    "    for i in range(epochs):\n",
    "        sample = torch.randint(0,total_tokens - block, (1,))\n",
    "\n",
    "        x,targets = get_batch() # torch.Size([6, 6]) torch.Size([6])\n",
    "\n",
    "        input_embed = tok_emb(x)  #torch.Size([6, 6, 32])\n",
    "        position_embedd = pos_emb(block,embed_dim).unsqueeze(1).expand(-1,6,-1)  #torch.Size([6, 6, 32])\n",
    "\n",
    "        position_aware_embed = input_embed + position_embedd  #torch.Size([6, 6, 32])\n",
    "\n",
    "        #forward pass\n",
    "        head_out = head(position_aware_embed) # 6,6,32\n",
    "\n",
    "        logits = projection(head_out) # 6,6,51\n",
    "        \n",
    "\n",
    "        logits_flattened = logits.view(-1, logits.size(-1))  # Shape: [36, 51]\n",
    "\n",
    "        # Flatten targets to match the logits\n",
    "        targets_flattened = targets.repeat(6)  # Shape: [36]\n",
    "\n",
    "        # Compute cross-entropy loss\n",
    "        loss = F.cross_entropy(logits_flattened, targets_flattened)\n",
    "\n",
    "        # backward and optimize\n",
    "        optim_dense.zero_grad()\n",
    "        loss.backward()\n",
    "        optim_dense.step()\n",
    "\n",
    "        if i %1000 == 0:\n",
    "            print(i,\"loss :==>\",loss)\n",
    "train(epochs=10000,lr = 0.1)      "
   ]
  },
  {
   "cell_type": "code",
   "execution_count": 80,
   "metadata": {},
   "outputs": [
    {
     "data": {
      "text/plain": [
       "<matplotlib.image.AxesImage at 0x29029937950>"
      ]
     },
     "execution_count": 80,
     "metadata": {},
     "output_type": "execute_result"
    },
    {
     "data": {
      "image/png": "[encoded data removed]",
      "text/plain": [
       "<Figure size 640x480 with 1 Axes>"
      ]
     },
     "metadata": {},
     "output_type": "display_data"
    }
   ],
   "source": [
    "plt.imshow(np.array(list(head.parameters())[0].detach()))\n"
   ]
  }
 ],
 "metadata": {
  "kernelspec": {
   "display_name": "Python 3",
   "language": "python",
   "name": "python3"
  },
  "language_info": {
   "codemirror_mode": {
    "name": "ipython",
    "version": 3
   },
   "file_extension": ".py",
   "mimetype": "text/x-python",
   "name": "python",
   "nbconvert_exporter": "python",
   "pygments_lexer": "ipython3",
   "version": "3.12.4"
  }
 },
 "nbformat": 4,
 "nbformat_minor": 2
}
